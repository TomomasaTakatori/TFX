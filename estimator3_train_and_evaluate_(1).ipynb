{
 "cells": [
  {
   "cell_type": "markdown",
   "metadata": {
    "colab_type": "text",
    "id": "fXAyD-4NQpsW"
   },
   "source": [
    "<h1>estimator APIにおけるtrain_and_evaluateとは</h1>\n",
    "<p>前回、現実世界にMLを利用するために次のような問題をあげた。\n",
    "<ol>\n",
    "    <li>データがメモリに納まらない</li>\n",
    "    <li>分散処理をしたい</li>\n",
    "    <li>訓練中に評価する必要がある</li>\n",
    "    <li>デプロイメント用にスケールアップしたい</li>\n",
    "</ol>\n",
    "</p>\n",
    "\n",
    "<p>train_and_evaluateはML engineと組み合わせることで１以降の全てを助ける。どのようにそれらを解決していくかを説明する。</p>"
   ]
  },
  {
   "cell_type": "markdown",
   "metadata": {
    "colab_type": "text",
    "id": "SHrEpe3uQpsX"
   },
   "source": [
    "<h2>分散処理が簡単に可能</h2>\n",
    "\n",
    "<p>低レベルAPIのtensorflowでグラフを分散処理をしようとした場合次のようなことを手動で設定する必要がある。\n",
    "<ul>\n",
    "    <li>graphを分配する</li>\n",
    "    <li>変数をシェアする</li>\n",
    "    <li>ワーカーの管理</li>\n",
    "    <li>例外や失敗の対処</li>\n",
    "    <li>チェックポイントを作成</li>\n",
    "</ul>\n",
    "train_and_evaluateはすでにもうこういったことが書かれている。MLEngineと組み合わせるだけで簡単に分散処理を行うことができる。\n",
    "</p>\n",
    "\n"
   ]
  },
  {
   "cell_type": "markdown",
   "metadata": {
    "colab_type": "text",
    "id": "G8UUr5bAQpsY"
   },
   "source": [
    "<h3>訓練中の評価（およびモニタリング）</h3>\n",
    "\n",
    "<p>train_and_evaluateはその名の通り、自分で設定したタイミングで訓練中に評価を行う。さらに、（これはestimatoraAPIに限ったことではないが）TensorBoardを組み合わせることで、訓練中のリアルタイミング分析が可能となる。</p>"
   ]
  },
  {
   "cell_type": "markdown",
   "metadata": {
    "colab_type": "text",
    "id": "qgEiOn_PQpsZ"
   },
   "source": [
    "<h4>train_and_evaluateの書き方</h4>\n",
    "\n",
    "<p>train_and_evaluateはデプロイすることを極めて簡単にすることを考えて作られている、それも主にMLEngineを使ってである。プロダクトとして、訓練済みモデルを使って予測するとき、データをモデルのグラフに提供するまでのグラフが訓練時と変わることが多々ある。具体的に言えば、訓練時のデータがcsvであるのに、MLEngineでデータを渡すときはjsonである。ならば、訓練時と同じグラフを使うわけには行かない、train_input_fnではなくserving_input_fnを定義しなくてはいけない。ここがおそらく今までともっとも大きな違いである。</p>\n",
    "\n",
    "<p>estimatorAPIでtrain_and_evaluateを使うとき次のように書く。\n",
    "<ol>\n",
    "    <li>今までと同じようにfeature_columnを定義</li>\n",
    "    <li>(Runconfigを定義（保存するディレクトリ、チェックポイントの保存タイミング、TensorBoard用のデータ（summary)の保存タイミングを決める）)</li>    \n",
    "    <li>estimatorを定義（今まではモデルといっていたが広義的にはモデルはアルゴリズム、訓練したパラメタなど全てをひっくるめたものを指すことが多いためestimatorとする）</li>\n",
    "    <li>TrainSpecを定義（もちろん今までと同じようにtrain_input_fnを事前に定義しておく）</li>\n",
    "    <li>exporterの作成（ここで、Serving_input_fnを使う、事前に定義しておく）</li>\n",
    "    <li>EvalSpecを定義</li>\n",
    "    <li>train_and_evaluateにestimator、TrainSpec、EvalSpecを渡す</li>\n",
    "    Runconfigで指定せずに今まで通り、モデルのディレクトリを指定する方法でも動く。\n",
    "</ol>\n",
    "</p>"
   ]
  },
  {
   "cell_type": "markdown",
   "metadata": {
    "colab_type": "text",
    "id": "Z7TyPvVWQpsb"
   },
   "source": [
    "<h4>実例</h4>\n",
    "以前と同じもの、コードも途中まで全く同じである。"
   ]
  },
  {
   "cell_type": "code",
   "execution_count": 1,
   "metadata": {
    "colab": {
     "base_uri": "https://localhost:8080/",
     "height": 35
    },
    "colab_type": "code",
    "id": "JnveD9nFQpsc",
    "outputId": "ab01d4e3-79c6-4672-d3f5-3a4a831dc9d6"
   },
   "outputs": [
    {
     "name": "stderr",
     "output_type": "stream",
     "text": [
      "/Users/baito/Works/TFX/.venv/lib/python3.7/site-packages/tensorflow/python/framework/dtypes.py:516: FutureWarning: Passing (type, 1) or '1type' as a synonym of type is deprecated; in a future version of numpy, it will be understood as (type, (1,)) / '(1,)type'.\n",
      "  _np_qint8 = np.dtype([(\"qint8\", np.int8, 1)])\n",
      "/Users/baito/Works/TFX/.venv/lib/python3.7/site-packages/tensorflow/python/framework/dtypes.py:517: FutureWarning: Passing (type, 1) or '1type' as a synonym of type is deprecated; in a future version of numpy, it will be understood as (type, (1,)) / '(1,)type'.\n",
      "  _np_quint8 = np.dtype([(\"quint8\", np.uint8, 1)])\n",
      "/Users/baito/Works/TFX/.venv/lib/python3.7/site-packages/tensorflow/python/framework/dtypes.py:518: FutureWarning: Passing (type, 1) or '1type' as a synonym of type is deprecated; in a future version of numpy, it will be understood as (type, (1,)) / '(1,)type'.\n",
      "  _np_qint16 = np.dtype([(\"qint16\", np.int16, 1)])\n",
      "/Users/baito/Works/TFX/.venv/lib/python3.7/site-packages/tensorflow/python/framework/dtypes.py:519: FutureWarning: Passing (type, 1) or '1type' as a synonym of type is deprecated; in a future version of numpy, it will be understood as (type, (1,)) / '(1,)type'.\n",
      "  _np_quint16 = np.dtype([(\"quint16\", np.uint16, 1)])\n",
      "/Users/baito/Works/TFX/.venv/lib/python3.7/site-packages/tensorflow/python/framework/dtypes.py:520: FutureWarning: Passing (type, 1) or '1type' as a synonym of type is deprecated; in a future version of numpy, it will be understood as (type, (1,)) / '(1,)type'.\n",
      "  _np_qint32 = np.dtype([(\"qint32\", np.int32, 1)])\n",
      "/Users/baito/Works/TFX/.venv/lib/python3.7/site-packages/tensorflow/python/framework/dtypes.py:525: FutureWarning: Passing (type, 1) or '1type' as a synonym of type is deprecated; in a future version of numpy, it will be understood as (type, (1,)) / '(1,)type'.\n",
      "  np_resource = np.dtype([(\"resource\", np.ubyte, 1)])\n",
      "/Users/baito/Works/TFX/.venv/lib/python3.7/site-packages/tensorboard/compat/tensorflow_stub/dtypes.py:541: FutureWarning: Passing (type, 1) or '1type' as a synonym of type is deprecated; in a future version of numpy, it will be understood as (type, (1,)) / '(1,)type'.\n",
      "  _np_qint8 = np.dtype([(\"qint8\", np.int8, 1)])\n",
      "/Users/baito/Works/TFX/.venv/lib/python3.7/site-packages/tensorboard/compat/tensorflow_stub/dtypes.py:542: FutureWarning: Passing (type, 1) or '1type' as a synonym of type is deprecated; in a future version of numpy, it will be understood as (type, (1,)) / '(1,)type'.\n",
      "  _np_quint8 = np.dtype([(\"quint8\", np.uint8, 1)])\n",
      "/Users/baito/Works/TFX/.venv/lib/python3.7/site-packages/tensorboard/compat/tensorflow_stub/dtypes.py:543: FutureWarning: Passing (type, 1) or '1type' as a synonym of type is deprecated; in a future version of numpy, it will be understood as (type, (1,)) / '(1,)type'.\n",
      "  _np_qint16 = np.dtype([(\"qint16\", np.int16, 1)])\n",
      "/Users/baito/Works/TFX/.venv/lib/python3.7/site-packages/tensorboard/compat/tensorflow_stub/dtypes.py:544: FutureWarning: Passing (type, 1) or '1type' as a synonym of type is deprecated; in a future version of numpy, it will be understood as (type, (1,)) / '(1,)type'.\n",
      "  _np_quint16 = np.dtype([(\"quint16\", np.uint16, 1)])\n",
      "/Users/baito/Works/TFX/.venv/lib/python3.7/site-packages/tensorboard/compat/tensorflow_stub/dtypes.py:545: FutureWarning: Passing (type, 1) or '1type' as a synonym of type is deprecated; in a future version of numpy, it will be understood as (type, (1,)) / '(1,)type'.\n",
      "  _np_qint32 = np.dtype([(\"qint32\", np.int32, 1)])\n",
      "/Users/baito/Works/TFX/.venv/lib/python3.7/site-packages/tensorboard/compat/tensorflow_stub/dtypes.py:550: FutureWarning: Passing (type, 1) or '1type' as a synonym of type is deprecated; in a future version of numpy, it will be understood as (type, (1,)) / '(1,)type'.\n",
      "  np_resource = np.dtype([(\"resource\", np.ubyte, 1)])\n"
     ]
    },
    {
     "name": "stdout",
     "output_type": "stream",
     "text": [
      "1.14.0\n"
     ]
    }
   ],
   "source": [
    "# import libraryimport datalab.bigquery as bq\n",
    "import tensorflow as tf\n",
    "import numpy as np\n",
    "import shutil\n",
    "print(tf.__version__)"
   ]
  },
  {
   "cell_type": "code",
   "execution_count": 2,
   "metadata": {
    "colab": {},
    "colab_type": "code",
    "id": "vObC_ChvQpsi"
   },
   "outputs": [],
   "source": [
    "# define input_fn with out-of-memory\n",
    "\n",
    "CSV_COLUMNS = ['fare_amount', 'pickuplon','pickuplat','dropofflon','dropofflat','passengers', 'key']\n",
    "LABEL_COLUMN = 'fare_amount'\n",
    "DEFAULTS = [[0.0], [-74.0], [40.0], [-74.0], [40.7], [1.0], ['nokey']]\n",
    "\n",
    "def read_dataset(filename, mode, batch_size=528):\n",
    "  def _input_fn():\n",
    "    def decode_csv(value_column):\n",
    "      columns = tf.decode_csv(value_column, record_defaults=DEFAULTS)\n",
    "      features = dict(zip(CSV_COLUMNS, columns))\n",
    "      label = features.pop(LABEL_COLUMN)\n",
    "      return features, label\n",
    "    \n",
    "    filename_dataset = tf.data.Dataset.list_files(filename)\n",
    "    textline_dataset = filename_dataset.flat_map(tf.data.TextLineDataset)\n",
    "    dataset = textline_dataset.map(decode_csv)\n",
    "    \n",
    "    if mode == tf.estimator.ModeKeys.TRAIN:\n",
    "      num_epochs = None\n",
    "      dataset = dataset.shuffle(buffer_size = 10*batch_size)\n",
    "    else:\n",
    "      num_epochs = 1\n",
    "    \n",
    "    dataset = dataset.repeat(num_epochs).batch(batch_size)\n",
    "    return dataset.make_one_shot_iterator().get_next()\n",
    "  return _input_fn\n"
   ]
  },
  {
   "cell_type": "code",
   "execution_count": 3,
   "metadata": {
    "colab": {},
    "colab_type": "code",
    "id": "RS8V5lGTQpsm"
   },
   "outputs": [],
   "source": [
    "# define feature_column\n",
    "\n",
    "INPUT_COLUMNS = [\n",
    "    tf.feature_column.numeric_column('pickuplon'),\n",
    "    tf.feature_column.numeric_column('pickuplat'),\n",
    "    tf.feature_column.numeric_column('dropofflat'),\n",
    "    tf.feature_column.numeric_column('dropofflon'),\n",
    "    tf.feature_column.numeric_column('passengers'),\n",
    "]\n",
    "\n",
    "def add_more_features(feats):\n",
    "    # feature engeneeringをするとき便利なので作っておく\n",
    "    return feats\n",
    "\n",
    "feature_cols = add_more_features(INPUT_COLUMNS)"
   ]
  },
  {
   "cell_type": "code",
   "execution_count": 4,
   "metadata": {
    "colab": {},
    "colab_type": "code",
    "id": "A_Pi0xdiQpsp"
   },
   "outputs": [],
   "source": [
    "# define serving_input_fn\n",
    "def serving_input_fn():\n",
    "  # まず渡されるデータに対してそれぞれの名前と対応するtensorを作成し、辞書形式でまとめる。\n",
    "  feature_placeholders = {\n",
    "    'pickuplon' : tf.placeholder(tf.float32, [None]),\n",
    "    'pickuplat' : tf.placeholder(tf.float32, [None]),\n",
    "    'dropofflon' : tf.placeholder(tf.float32, [None]),\n",
    "    'dropofflat' : tf.placeholder(tf.float32, [None]),\n",
    "    'passengers' : tf.placeholder(tf.float32, [None]),\n",
    "  }\n",
    "  # 次にこのデータに対して、グラフに渡す際、何かしらの変換が必要なときは変換を行う。（名前を変えたり、特徴量を変化させたり）\n",
    "  # 今回は全く同じため変化させる必要がない\n",
    "  features = feature_placeholders\n",
    "  return tf.estimator.export.ServingInputReceiver(features, feature_placeholders)\n"
   ]
  },
  {
   "cell_type": "code",
   "execution_count": 5,
   "metadata": {
    "colab": {},
    "colab_type": "code",
    "id": "iV1lKrp1Qpss"
   },
   "outputs": [],
   "source": [
    "# define train_and_evaluate\n",
    "\n",
    "def train_and_evaluate(output_dir, num_train_steps):\n",
    "  # 今回はRunconfigを定義しない\n",
    "  # runconfig = tf.estimator.RunConfig(model_dir=, save_summary_steps=, save_checkpoints_step=)のように作る\n",
    "  estimator = tf.estimator.LinearRegressor(feature_cols, model_dir=output_dir)\n",
    "  train_spec = tf.estimator.TrainSpec(input_fn = read_dataset('./data/taxi-train.csv', mode = tf.estimator.ModeKeys.TRAIN),\n",
    "                                       max_steps = num_train_steps)\n",
    "  exporter = tf.estimator.LatestExporter('exporter', serving_input_fn) # model_dirにexporterの名前で結果が保存される、それぞれがデプロイ用のモデルを保存している。\n",
    "  eval_spec = tf.estimator.EvalSpec(\n",
    "                       input_fn = read_dataset('./data/taxi-valid.csv', mode = tf.estimator.ModeKeys.EVAL),\n",
    "                       steps = None, # 何バッチで評価するか決める\n",
    "                       start_delay_secs = 1, # start evaluating after N seconds\n",
    "                       throttle_secs = 10,  # ここに書かれている秒数以下の時間に一回評価する\n",
    "                       exporters = exporter)\n",
    "  return tf.estimator.train_and_evaluate(estimator, train_spec, eval_spec)"
   ]
  },
  {
   "cell_type": "code",
   "execution_count": 7,
   "metadata": {
    "colab": {
     "base_uri": "https://localhost:8080/",
     "height": 1128
    },
    "colab_type": "code",
    "id": "GRTZ4QfxQps0",
    "outputId": "1d9b193c-bb42-4d72-8863-fb1a476518ea"
   },
   "outputs": [
    {
     "name": "stderr",
     "output_type": "stream",
     "text": [
      "WARNING: Logging before flag parsing goes to stderr.\n",
      "W0805 11:16:19.561046 4610495936 deprecation.py:323] From /Users/baito/Works/TFX/.venv/lib/python3.7/site-packages/tensorflow/python/training/training_util.py:236: Variable.initialized_value (from tensorflow.python.ops.variables) is deprecated and will be removed in a future version.\n",
      "Instructions for updating:\n",
      "Use Variable.read_value. Variables in 2.X are initialized automatically both in eager and graph (inside tf.defun) contexts.\n",
      "W0805 11:16:19.715753 4610495936 deprecation.py:323] From <ipython-input-2-79e19eca4b37>:26: DatasetV1.make_one_shot_iterator (from tensorflow.python.data.ops.dataset_ops) is deprecated and will be removed in a future version.\n",
      "Instructions for updating:\n",
      "Use `for ... in dataset:` to iterate over a dataset. If using `tf.estimator`, return the `Dataset` object directly from your input function. As a last resort, you can use `tf.compat.v1.data.make_one_shot_iterator(dataset)`.\n",
      "W0805 11:16:20.580346 4610495936 deprecation.py:323] From /Users/baito/Works/TFX/.venv/lib/python3.7/site-packages/tensorflow_estimator/python/estimator/canned/linear.py:308: to_float (from tensorflow.python.ops.math_ops) is deprecated and will be removed in a future version.\n",
      "Instructions for updating:\n",
      "Use `tf.cast` instead.\n",
      "W0805 11:16:21.713585 4610495936 deprecation.py:323] From /Users/baito/Works/TFX/.venv/lib/python3.7/site-packages/tensorflow/python/ops/array_ops.py:1354: add_dispatch_support.<locals>.wrapper (from tensorflow.python.ops.array_ops) is deprecated and will be removed in a future version.\n",
      "Instructions for updating:\n",
      "Use tf.where in 2.0, which has the same broadcast rule as np.where\n",
      "W0805 11:17:30.850064 4610495936 deprecation.py:323] From /Users/baito/Works/TFX/.venv/lib/python3.7/site-packages/tensorflow/python/training/saver.py:1276: checkpoint_exists (from tensorflow.python.training.checkpoint_management) is deprecated and will be removed in a future version.\n",
      "Instructions for updating:\n",
      "Use standard file APIs to check for files with this prefix.\n",
      "W0805 11:17:31.730856 4610495936 deprecation.py:323] From /Users/baito/Works/TFX/.venv/lib/python3.7/site-packages/tensorflow/python/saved_model/signature_def_utils_impl.py:201: build_tensor_info (from tensorflow.python.saved_model.utils_impl) is deprecated and will be removed in a future version.\n",
      "Instructions for updating:\n",
      "This function will only be available through the v1 compatibility library as tf.compat.v1.saved_model.utils.build_tensor_info or tf.compat.v1.saved_model.build_tensor_info.\n",
      "W0805 11:17:31.732150 4610495936 export_utils.py:182] Export includes no default signature!\n"
     ]
    },
    {
     "data": {
      "text/plain": [
       "({'average_loss': 108.85366,\n",
       "  'label/mean': 11.666427,\n",
       "  'loss': 45310.336,\n",
       "  'prediction/mean': 11.49476,\n",
       "  'global_step': 2000},\n",
       " [b'./output_dir/export/exporter/1564971451'])"
      ]
     },
     "execution_count": 7,
     "metadata": {},
     "output_type": "execute_result"
    }
   ],
   "source": [
    "# Run training    \n",
    "shutil.rmtree('./output_dir', ignore_errors = True) # start fresh each time\n",
    "train_and_evaluate('./output_dir', num_train_steps = 2000)"
   ]
  }
 ],
 "metadata": {
  "colab": {
   "name": "estimator3_train_and_evaluate (1).ipynb",
   "provenance": [],
   "version": "0.3.2"
  },
  "kernelspec": {
   "display_name": "Python 3",
   "language": "python",
   "name": "python3"
  },
  "language_info": {
   "codemirror_mode": {
    "name": "ipython",
    "version": 3
   },
   "file_extension": ".py",
   "mimetype": "text/x-python",
   "name": "python",
   "nbconvert_exporter": "python",
   "pygments_lexer": "ipython3",
   "version": "3.7.3"
  }
 },
 "nbformat": 4,
 "nbformat_minor": 4
}
