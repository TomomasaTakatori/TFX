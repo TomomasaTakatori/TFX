{
 "cells": [
  {
   "cell_type": "markdown",
   "metadata": {},
   "source": [
    "# TFDV\n",
    "tensorflow data validation訳してTFDVのやれることを確認していく"
   ]
  },
  {
   "cell_type": "markdown",
   "metadata": {},
   "source": [
    "## Computing descriptive data statistics\n",
    "基本的な統計量をすぐ測れる"
   ]
  },
  {
   "cell_type": "code",
   "execution_count": 1,
   "metadata": {},
   "outputs": [
    {
     "name": "stderr",
     "output_type": "stream",
     "text": [
      "/Users/baito/Works/TFX/.venv/lib/python3.7/site-packages/apache_beam/__init__.py:84: UserWarning: Some syntactic constructs of Python 3 are not yet fully supported by Apache Beam.\n",
      "  'Some syntactic constructs of Python 3 are not yet fully supported by '\n",
      "/Users/baito/Works/TFX/.venv/lib/python3.7/site-packages/tensorflow/python/framework/dtypes.py:516: FutureWarning: Passing (type, 1) or '1type' as a synonym of type is deprecated; in a future version of numpy, it will be understood as (type, (1,)) / '(1,)type'.\n",
      "  _np_qint8 = np.dtype([(\"qint8\", np.int8, 1)])\n",
      "/Users/baito/Works/TFX/.venv/lib/python3.7/site-packages/tensorflow/python/framework/dtypes.py:517: FutureWarning: Passing (type, 1) or '1type' as a synonym of type is deprecated; in a future version of numpy, it will be understood as (type, (1,)) / '(1,)type'.\n",
      "  _np_quint8 = np.dtype([(\"quint8\", np.uint8, 1)])\n",
      "/Users/baito/Works/TFX/.venv/lib/python3.7/site-packages/tensorflow/python/framework/dtypes.py:518: FutureWarning: Passing (type, 1) or '1type' as a synonym of type is deprecated; in a future version of numpy, it will be understood as (type, (1,)) / '(1,)type'.\n",
      "  _np_qint16 = np.dtype([(\"qint16\", np.int16, 1)])\n",
      "/Users/baito/Works/TFX/.venv/lib/python3.7/site-packages/tensorflow/python/framework/dtypes.py:519: FutureWarning: Passing (type, 1) or '1type' as a synonym of type is deprecated; in a future version of numpy, it will be understood as (type, (1,)) / '(1,)type'.\n",
      "  _np_quint16 = np.dtype([(\"quint16\", np.uint16, 1)])\n",
      "/Users/baito/Works/TFX/.venv/lib/python3.7/site-packages/tensorflow/python/framework/dtypes.py:520: FutureWarning: Passing (type, 1) or '1type' as a synonym of type is deprecated; in a future version of numpy, it will be understood as (type, (1,)) / '(1,)type'.\n",
      "  _np_qint32 = np.dtype([(\"qint32\", np.int32, 1)])\n",
      "/Users/baito/Works/TFX/.venv/lib/python3.7/site-packages/tensorflow/python/framework/dtypes.py:525: FutureWarning: Passing (type, 1) or '1type' as a synonym of type is deprecated; in a future version of numpy, it will be understood as (type, (1,)) / '(1,)type'.\n",
      "  np_resource = np.dtype([(\"resource\", np.ubyte, 1)])\n",
      "/Users/baito/Works/TFX/.venv/lib/python3.7/site-packages/tensorboard/compat/tensorflow_stub/dtypes.py:541: FutureWarning: Passing (type, 1) or '1type' as a synonym of type is deprecated; in a future version of numpy, it will be understood as (type, (1,)) / '(1,)type'.\n",
      "  _np_qint8 = np.dtype([(\"qint8\", np.int8, 1)])\n",
      "/Users/baito/Works/TFX/.venv/lib/python3.7/site-packages/tensorboard/compat/tensorflow_stub/dtypes.py:542: FutureWarning: Passing (type, 1) or '1type' as a synonym of type is deprecated; in a future version of numpy, it will be understood as (type, (1,)) / '(1,)type'.\n",
      "  _np_quint8 = np.dtype([(\"quint8\", np.uint8, 1)])\n",
      "/Users/baito/Works/TFX/.venv/lib/python3.7/site-packages/tensorboard/compat/tensorflow_stub/dtypes.py:543: FutureWarning: Passing (type, 1) or '1type' as a synonym of type is deprecated; in a future version of numpy, it will be understood as (type, (1,)) / '(1,)type'.\n",
      "  _np_qint16 = np.dtype([(\"qint16\", np.int16, 1)])\n",
      "/Users/baito/Works/TFX/.venv/lib/python3.7/site-packages/tensorboard/compat/tensorflow_stub/dtypes.py:544: FutureWarning: Passing (type, 1) or '1type' as a synonym of type is deprecated; in a future version of numpy, it will be understood as (type, (1,)) / '(1,)type'.\n",
      "  _np_quint16 = np.dtype([(\"quint16\", np.uint16, 1)])\n",
      "/Users/baito/Works/TFX/.venv/lib/python3.7/site-packages/tensorboard/compat/tensorflow_stub/dtypes.py:545: FutureWarning: Passing (type, 1) or '1type' as a synonym of type is deprecated; in a future version of numpy, it will be understood as (type, (1,)) / '(1,)type'.\n",
      "  _np_qint32 = np.dtype([(\"qint32\", np.int32, 1)])\n",
      "/Users/baito/Works/TFX/.venv/lib/python3.7/site-packages/tensorboard/compat/tensorflow_stub/dtypes.py:550: FutureWarning: Passing (type, 1) or '1type' as a synonym of type is deprecated; in a future version of numpy, it will be understood as (type, (1,)) / '(1,)type'.\n",
      "  np_resource = np.dtype([(\"resource\", np.ubyte, 1)])\n"
     ]
    }
   ],
   "source": [
    "import tensorflow_data_validation as tfdv"
   ]
  },
  {
   "cell_type": "code",
   "execution_count": 12,
   "metadata": {},
   "outputs": [],
   "source": [
    "stats = tfdv.generate_statistics_from_tfrecord('./tfrecord/train_transformed-00000-of-00001')"
   ]
  },
  {
   "cell_type": "code",
   "execution_count": 13,
   "metadata": {},
   "outputs": [
    {
     "data": {
      "text/html": [
       "<iframe id='facets-iframe' width=\"100%\" height=\"500px\"></iframe>\n",
       "        <script>\n",
       "        facets_iframe = document.getElementById('facets-iframe');\n",
       "        facets_html = '<link rel=\"import\" href=\"https://raw.githubusercontent.com/PAIR-code/facets/master/facets-dist/facets-jupyter.html\"><facets-overview proto-input=\"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\"></facets-overview>';\n",
       "        facets_iframe.contentWindow.document.write(facets_html);\n",
       "         facets_iframe.id = \"\";\n",
       "         setTimeout(() => {\n",
       "           facets_iframe.setAttribute('height', facets_iframe.contentWindow.document.body.offsetHeight + 'px')\n",
       "         }, 1500)\n",
       "         </script>"
      ],
      "text/plain": [
       "<IPython.core.display.HTML object>"
      ]
     },
     "metadata": {},
     "output_type": "display_data"
    }
   ],
   "source": [
    "tfdv.visualize_statistics(stats)"
   ]
  },
  {
   "cell_type": "markdown",
   "metadata": {},
   "source": [
    "ｃｓｖから読み込む事もできる。（この場合一行目がカラム名でないのでexplicitに入力する必要がある）"
   ]
  },
  {
   "cell_type": "code",
   "execution_count": 10,
   "metadata": {},
   "outputs": [],
   "source": [
    "stats2 = tfdv.generate_statistics_from_csv('./data/taxi-train.csv', column_names=['dropofflon','dropofflat','passengers', 'fare_amount', 'pickuplon','pickuplat', 'key'])"
   ]
  },
  {
   "cell_type": "code",
   "execution_count": 11,
   "metadata": {},
   "outputs": [
    {
     "data": {
      "text/html": [
       "<iframe id='facets-iframe' width=\"100%\" height=\"500px\"></iframe>\n",
       "        <script>\n",
       "        facets_iframe = document.getElementById('facets-iframe');\n",
       "        facets_html = '<link rel=\"import\" href=\"https://raw.githubusercontent.com/PAIR-code/facets/master/facets-dist/facets-jupyter.html\"><facets-overview proto-input=\"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\"></facets-overview>';\n",
       "        facets_iframe.contentWindow.document.write(facets_html);\n",
       "         facets_iframe.id = \"\";\n",
       "         setTimeout(() => {\n",
       "           facets_iframe.setAttribute('height', facets_iframe.contentWindow.document.body.offsetHeight + 'px')\n",
       "         }, 1500)\n",
       "         </script>"
      ],
      "text/plain": [
       "<IPython.core.display.HTML object>"
      ]
     },
     "metadata": {},
     "output_type": "display_data"
    }
   ],
   "source": [
    "tfdv.visualize_statistics(stats2)"
   ]
  },
  {
   "cell_type": "markdown",
   "metadata": {},
   "source": [
    "## Inferring a schema over the data\n",
    "> 特徴量がどういった属性を持っているかを述べたスキーマを作成出来る。プロパティとして\n",
    "* あると期待されている特徴量かどうか\n",
    "* 型\n",
    "* それぞれのイグザンプルの中の1つの特徴量の値の数\n",
    "* 全てのイグザンプルをまたいだそれぞれの特徴量があるかどうか\n",
    "* 特徴量が期待されたドメインかどうか　\n",
    "\n",
    "ようは簡単に言えば正しいデータとはどういうものかを記述する。これらはエラーを発見するのに使われる。またこれらのスキーマはTFTでも使われる。\n",
    "   "
   ]
  },
  {
   "cell_type": "code",
   "execution_count": 14,
   "metadata": {},
   "outputs": [],
   "source": [
    "# schemaを書く\n",
    "schema = tfdv.infer_schema(satas)"
   ]
  },
  {
   "cell_type": "code",
   "execution_count": 16,
   "metadata": {},
   "outputs": [
    {
     "data": {
      "text/plain": [
       "feature {\n",
       "  name: \"dropofflat\"\n",
       "  type: INT\n",
       "  presence {\n",
       "    min_fraction: 1.0\n",
       "    min_count: 1\n",
       "  }\n",
       "  shape {\n",
       "    dim {\n",
       "      size: 1\n",
       "    }\n",
       "  }\n",
       "}\n",
       "feature {\n",
       "  name: \"dropofflon\"\n",
       "  type: INT\n",
       "  presence {\n",
       "    min_fraction: 1.0\n",
       "    min_count: 1\n",
       "  }\n",
       "  shape {\n",
       "    dim {\n",
       "      size: 1\n",
       "    }\n",
       "  }\n",
       "}\n",
       "feature {\n",
       "  name: \"passengers\"\n",
       "  type: FLOAT\n",
       "  presence {\n",
       "    min_fraction: 1.0\n",
       "    min_count: 1\n",
       "  }\n",
       "  shape {\n",
       "    dim {\n",
       "      size: 1\n",
       "    }\n",
       "  }\n",
       "}\n",
       "feature {\n",
       "  name: \"fare_amount\"\n",
       "  type: FLOAT\n",
       "  presence {\n",
       "    min_fraction: 1.0\n",
       "    min_count: 1\n",
       "  }\n",
       "  shape {\n",
       "    dim {\n",
       "      size: 1\n",
       "    }\n",
       "  }\n",
       "}\n",
       "feature {\n",
       "  name: \"pickuplon\"\n",
       "  type: INT\n",
       "  presence {\n",
       "    min_fraction: 1.0\n",
       "    min_count: 1\n",
       "  }\n",
       "  shape {\n",
       "    dim {\n",
       "      size: 1\n",
       "    }\n",
       "  }\n",
       "}\n",
       "feature {\n",
       "  name: \"pickuplat\"\n",
       "  type: INT\n",
       "  presence {\n",
       "    min_fraction: 1.0\n",
       "    min_count: 1\n",
       "  }\n",
       "  shape {\n",
       "    dim {\n",
       "      size: 1\n",
       "    }\n",
       "  }\n",
       "}\n",
       "feature {\n",
       "  name: \"key\"\n",
       "  type: FLOAT\n",
       "  presence {\n",
       "    min_fraction: 1.0\n",
       "    min_count: 1\n",
       "  }\n",
       "  shape {\n",
       "    dim {\n",
       "      size: 1\n",
       "    }\n",
       "  }\n",
       "}"
      ]
     },
     "execution_count": 16,
     "metadata": {},
     "output_type": "execute_result"
    }
   ],
   "source": [
    "schema"
   ]
  },
  {
   "cell_type": "code",
   "execution_count": 17,
   "metadata": {},
   "outputs": [
    {
     "data": {
      "text/html": [
       "<div>\n",
       "<style scoped>\n",
       "    .dataframe tbody tr th:only-of-type {\n",
       "        vertical-align: middle;\n",
       "    }\n",
       "\n",
       "    .dataframe tbody tr th {\n",
       "        vertical-align: top;\n",
       "    }\n",
       "\n",
       "    .dataframe thead th {\n",
       "        text-align: right;\n",
       "    }\n",
       "</style>\n",
       "<table border=\"1\" class=\"dataframe\">\n",
       "  <thead>\n",
       "    <tr style=\"text-align: right;\">\n",
       "      <th></th>\n",
       "      <th>Type</th>\n",
       "      <th>Presence</th>\n",
       "      <th>Valency</th>\n",
       "      <th>Domain</th>\n",
       "    </tr>\n",
       "    <tr>\n",
       "      <th>Feature name</th>\n",
       "      <th></th>\n",
       "      <th></th>\n",
       "      <th></th>\n",
       "      <th></th>\n",
       "    </tr>\n",
       "  </thead>\n",
       "  <tbody>\n",
       "    <tr>\n",
       "      <th>'dropofflat'</th>\n",
       "      <td>INT</td>\n",
       "      <td>required</td>\n",
       "      <td></td>\n",
       "      <td>-</td>\n",
       "    </tr>\n",
       "    <tr>\n",
       "      <th>'dropofflon'</th>\n",
       "      <td>INT</td>\n",
       "      <td>required</td>\n",
       "      <td></td>\n",
       "      <td>-</td>\n",
       "    </tr>\n",
       "    <tr>\n",
       "      <th>'passengers'</th>\n",
       "      <td>FLOAT</td>\n",
       "      <td>required</td>\n",
       "      <td></td>\n",
       "      <td>-</td>\n",
       "    </tr>\n",
       "    <tr>\n",
       "      <th>'fare_amount'</th>\n",
       "      <td>FLOAT</td>\n",
       "      <td>required</td>\n",
       "      <td></td>\n",
       "      <td>-</td>\n",
       "    </tr>\n",
       "    <tr>\n",
       "      <th>'pickuplon'</th>\n",
       "      <td>INT</td>\n",
       "      <td>required</td>\n",
       "      <td></td>\n",
       "      <td>-</td>\n",
       "    </tr>\n",
       "    <tr>\n",
       "      <th>'pickuplat'</th>\n",
       "      <td>INT</td>\n",
       "      <td>required</td>\n",
       "      <td></td>\n",
       "      <td>-</td>\n",
       "    </tr>\n",
       "    <tr>\n",
       "      <th>'key'</th>\n",
       "      <td>FLOAT</td>\n",
       "      <td>required</td>\n",
       "      <td></td>\n",
       "      <td>-</td>\n",
       "    </tr>\n",
       "  </tbody>\n",
       "</table>\n",
       "</div>"
      ],
      "text/plain": [
       "                Type  Presence Valency Domain\n",
       "Feature name                                 \n",
       "'dropofflat'     INT  required              -\n",
       "'dropofflon'     INT  required              -\n",
       "'passengers'   FLOAT  required              -\n",
       "'fare_amount'  FLOAT  required              -\n",
       "'pickuplon'      INT  required              -\n",
       "'pickuplat'      INT  required              -\n",
       "'key'          FLOAT  required              -"
      ]
     },
     "metadata": {},
     "output_type": "display_data"
    }
   ],
   "source": [
    "tfdv.display_schema(schema)"
   ]
  },
  {
   "cell_type": "code",
   "execution_count": 21,
   "metadata": {},
   "outputs": [],
   "source": [
    "tfdv.get_feature(schema, 'dropofflat').presence.min_fraction = 0.5"
   ]
  },
  {
   "cell_type": "code",
   "execution_count": 23,
   "metadata": {},
   "outputs": [
    {
     "data": {
      "text/plain": [
       "feature {\n",
       "  name: \"dropofflat\"\n",
       "  type: INT\n",
       "  presence {\n",
       "    min_fraction: 0.5\n",
       "    min_count: 1\n",
       "  }\n",
       "  shape {\n",
       "    dim {\n",
       "      size: 1\n",
       "    }\n",
       "  }\n",
       "}\n",
       "feature {\n",
       "  name: \"dropofflon\"\n",
       "  type: INT\n",
       "  presence {\n",
       "    min_fraction: 1.0\n",
       "    min_count: 1\n",
       "  }\n",
       "  shape {\n",
       "    dim {\n",
       "      size: 1\n",
       "    }\n",
       "  }\n",
       "}\n",
       "feature {\n",
       "  name: \"passengers\"\n",
       "  type: FLOAT\n",
       "  presence {\n",
       "    min_fraction: 1.0\n",
       "    min_count: 1\n",
       "  }\n",
       "  shape {\n",
       "    dim {\n",
       "      size: 1\n",
       "    }\n",
       "  }\n",
       "}\n",
       "feature {\n",
       "  name: \"fare_amount\"\n",
       "  type: FLOAT\n",
       "  presence {\n",
       "    min_fraction: 1.0\n",
       "    min_count: 1\n",
       "  }\n",
       "  shape {\n",
       "    dim {\n",
       "      size: 1\n",
       "    }\n",
       "  }\n",
       "}\n",
       "feature {\n",
       "  name: \"pickuplon\"\n",
       "  type: INT\n",
       "  presence {\n",
       "    min_fraction: 1.0\n",
       "    min_count: 1\n",
       "  }\n",
       "  shape {\n",
       "    dim {\n",
       "      size: 1\n",
       "    }\n",
       "  }\n",
       "}\n",
       "feature {\n",
       "  name: \"pickuplat\"\n",
       "  type: INT\n",
       "  presence {\n",
       "    min_fraction: 1.0\n",
       "    min_count: 1\n",
       "  }\n",
       "  shape {\n",
       "    dim {\n",
       "      size: 1\n",
       "    }\n",
       "  }\n",
       "}\n",
       "feature {\n",
       "  name: \"key\"\n",
       "  type: FLOAT\n",
       "  presence {\n",
       "    min_fraction: 1.0\n",
       "    min_count: 1\n",
       "  }\n",
       "  shape {\n",
       "    dim {\n",
       "      size: 1\n",
       "    }\n",
       "  }\n",
       "}"
      ]
     },
     "execution_count": 23,
     "metadata": {},
     "output_type": "execute_result"
    }
   ],
   "source": [
    "schema"
   ]
  },
  {
   "cell_type": "markdown",
   "metadata": {},
   "source": [
    "`dropofflat`の`presense`の値が変わっていることがわかる"
   ]
  },
  {
   "cell_type": "markdown",
   "metadata": {},
   "source": [
    "## Checking the data for errors \n",
    "データセットが期待したものであるか、どこが通常と違うのかを測定できる。"
   ]
  },
  {
   "cell_type": "markdown",
   "metadata": {},
   "source": [
    "### Matching the statistics of the dataset against a schema\n",
    "異なるデータに対して統計量があっているかをスキーマと比較して検出する"
   ]
  },
  {
   "cell_type": "code",
   "execution_count": 24,
   "metadata": {},
   "outputs": [],
   "source": [
    "other_stats = tfdv.generate_statistics_from_tfrecord('./tfrecord/test_transformed-00000-of-00001')"
   ]
  },
  {
   "cell_type": "code",
   "execution_count": 26,
   "metadata": {},
   "outputs": [
    {
     "data": {
      "text/html": [
       "<h4 style=\"color:green;\">No anomalies found.</h4>"
      ],
      "text/plain": [
       "<IPython.core.display.HTML object>"
      ]
     },
     "metadata": {},
     "output_type": "display_data"
    }
   ],
   "source": [
    "anomalies = tfdv.validate_statistics(statistics=other_stats, schema=schema)\n",
    "tfdv.display_anomalies(anomalies)"
   ]
  },
  {
   "cell_type": "markdown",
   "metadata": {},
   "source": [
    "特におかしい特徴量は無いようだ。試しに確実にエラーがでるCSVでやってみる。"
   ]
  },
  {
   "cell_type": "code",
   "execution_count": 27,
   "metadata": {},
   "outputs": [
    {
     "data": {
      "text/html": [
       "<div>\n",
       "<style scoped>\n",
       "    .dataframe tbody tr th:only-of-type {\n",
       "        vertical-align: middle;\n",
       "    }\n",
       "\n",
       "    .dataframe tbody tr th {\n",
       "        vertical-align: top;\n",
       "    }\n",
       "\n",
       "    .dataframe thead th {\n",
       "        text-align: right;\n",
       "    }\n",
       "</style>\n",
       "<table border=\"1\" class=\"dataframe\">\n",
       "  <thead>\n",
       "    <tr style=\"text-align: right;\">\n",
       "      <th></th>\n",
       "      <th>Anomaly short description</th>\n",
       "      <th>Anomaly long description</th>\n",
       "    </tr>\n",
       "    <tr>\n",
       "      <th>Feature name</th>\n",
       "      <th></th>\n",
       "      <th></th>\n",
       "    </tr>\n",
       "  </thead>\n",
       "  <tbody>\n",
       "    <tr>\n",
       "      <th>'pickuplon'</th>\n",
       "      <td>Expected data of type: INT but got FLOAT</td>\n",
       "      <td></td>\n",
       "    </tr>\n",
       "    <tr>\n",
       "      <th>'dropofflat'</th>\n",
       "      <td>Expected data of type: INT but got FLOAT</td>\n",
       "      <td></td>\n",
       "    </tr>\n",
       "    <tr>\n",
       "      <th>'dropofflon'</th>\n",
       "      <td>Expected data of type: INT but got FLOAT</td>\n",
       "      <td></td>\n",
       "    </tr>\n",
       "    <tr>\n",
       "      <th>'key'</th>\n",
       "      <td>Expected data of type: FLOAT but got INT</td>\n",
       "      <td></td>\n",
       "    </tr>\n",
       "  </tbody>\n",
       "</table>\n",
       "</div>"
      ],
      "text/plain": [
       "                             Anomaly short description  \\\n",
       "Feature name                                             \n",
       "'pickuplon'   Expected data of type: INT but got FLOAT   \n",
       "'dropofflat'  Expected data of type: INT but got FLOAT   \n",
       "'dropofflon'  Expected data of type: INT but got FLOAT   \n",
       "'key'         Expected data of type: FLOAT but got INT   \n",
       "\n",
       "             Anomaly long description  \n",
       "Feature name                           \n",
       "'pickuplon'                            \n",
       "'dropofflat'                           \n",
       "'dropofflon'                           \n",
       "'key'                                  "
      ]
     },
     "metadata": {},
     "output_type": "display_data"
    }
   ],
   "source": [
    "anomalies2 = tfdv.validate_statistics(statistics=stats2, schema=schema)\n",
    "tfdv.display_anomalies(anomalies2)"
   ]
  },
  {
   "cell_type": "markdown",
   "metadata": {},
   "source": [
    "## Checking for erros on a per-example basis\n",
    "TFDVは一つ一つのエグザンプルに対して異常値検出をすることも可能である。"
   ]
  },
  {
   "cell_type": "code",
   "execution_count": 28,
   "metadata": {},
   "outputs": [
    {
     "ename": "AttributeError",
     "evalue": "module 'tensorflow_data_validation' has no attribute 'validate_tfexamples_in_tfrecord'",
     "output_type": "error",
     "traceback": [
      "\u001b[0;31m---------------------------------------------------------------------------\u001b[0m",
      "\u001b[0;31mAttributeError\u001b[0m                            Traceback (most recent call last)",
      "\u001b[0;32m<ipython-input-28-10c3e188189c>\u001b[0m in \u001b[0;36m<module>\u001b[0;34m\u001b[0m\n\u001b[1;32m      1\u001b[0m \u001b[0moptions\u001b[0m \u001b[0;34m=\u001b[0m \u001b[0mtfdv\u001b[0m\u001b[0;34m.\u001b[0m\u001b[0mStatsOptions\u001b[0m\u001b[0;34m(\u001b[0m\u001b[0mschema\u001b[0m\u001b[0;34m=\u001b[0m\u001b[0mschema\u001b[0m\u001b[0;34m)\u001b[0m\u001b[0;34m\u001b[0m\u001b[0;34m\u001b[0m\u001b[0m\n\u001b[0;32m----> 2\u001b[0;31m anomalous_example_stats = tfdv.validate_tfexamples_in_tfrecord(\n\u001b[0m\u001b[1;32m      3\u001b[0m    data_location='./tfrecord/test_transformed-00000-of-00001', stats_options=options)\n\u001b[1;32m      4\u001b[0m \u001b[0mtfdv\u001b[0m\u001b[0;34m.\u001b[0m\u001b[0mdisplay_anomalies\u001b[0m\u001b[0;34m(\u001b[0m\u001b[0manomalous_example_stats\u001b[0m\u001b[0;34m)\u001b[0m\u001b[0;34m\u001b[0m\u001b[0;34m\u001b[0m\u001b[0m\n",
      "\u001b[0;31mAttributeError\u001b[0m: module 'tensorflow_data_validation' has no attribute 'validate_tfexamples_in_tfrecord'"
     ]
    }
   ],
   "source": [
    "options = tfdv.StatsOptions(schema=schema)\n",
    "anomalous_example_stats = tfdv.validate_tfexamples_in(\n",
    "   data_location='./tfrecord/test_transformed-00000-of-00001', stats_options=options) # python 3ではまだ未対応\n",
    "tfdv.display_anomalies(anomalous_example_stats)"
   ]
  },
  {
   "cell_type": "markdown",
   "metadata": {},
   "source": [
    "## Checking data skew and drift"
   ]
  },
  {
   "cell_type": "code",
   "execution_count": 33,
   "metadata": {},
   "outputs": [],
   "source": [
    "serving_stats = tfdv.generate_statistics_from_tfrecord('./tfrecord/test_transformed-00000-of-00001')\n",
    "\n",
    "tfdv.get_feature(schema, 'passengers').skew_comparator.infinity_norm.threshold = 0.01\n",
    "skew_anomalies = tfdv.validate_statistics(\n",
    "    statistics=stats, schema=schema, serving_statistics=serving_stats)"
   ]
  },
  {
   "cell_type": "code",
   "execution_count": 34,
   "metadata": {},
   "outputs": [
    {
     "data": {
      "text/html": [
       "<h4 style=\"color:green;\">No anomalies found.</h4>"
      ],
      "text/plain": [
       "<IPython.core.display.HTML object>"
      ]
     },
     "metadata": {},
     "output_type": "display_data"
    }
   ],
   "source": [
    "tfdv.display_anomalies(skew_anomalies)"
   ]
  },
  {
   "cell_type": "code",
   "execution_count": null,
   "metadata": {},
   "outputs": [],
   "source": []
  }
 ],
 "metadata": {
  "kernelspec": {
   "display_name": "Python 3",
   "language": "python",
   "name": "python3"
  },
  "language_info": {
   "codemirror_mode": {
    "name": "ipython",
    "version": 3
   },
   "file_extension": ".py",
   "mimetype": "text/x-python",
   "name": "python",
   "nbconvert_exporter": "python",
   "pygments_lexer": "ipython3",
   "version": "3.7.3"
  }
 },
 "nbformat": 4,
 "nbformat_minor": 4
}
