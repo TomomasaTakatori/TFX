{
 "cells": [
  {
   "cell_type": "markdown",
   "metadata": {},
   "source": [
    "# TFDV\n",
    "tensorflow data validation略してTFDVのやれることを確認していく\n",
    "\n",
    "https://www.tensorflow.org/tfx/data_validation/get_started#checking_for_errors_on_a_per-example_basis を参考にしている \n",
    "\n",
    "TFDVで出来ることは \n",
    "* compute descriptive statistics\n",
    "* infer a schema\n",
    "* detect data anomalies \n",
    "\n",
    "である。"
   ]
  },
  {
   "cell_type": "markdown",
   "metadata": {},
   "source": [
    "## Computing descriptive data statistics\n",
    "基本的な統計量をすぐ測れる"
   ]
  },
  {
   "cell_type": "code",
   "execution_count": 17,
   "metadata": {},
   "outputs": [],
   "source": [
    "import tensorflow_data_validation as tfdv"
   ]
  },
  {
   "cell_type": "code",
   "execution_count": 40,
   "metadata": {},
   "outputs": [],
   "source": [
    "stats = tfdv.generate_statistics_from_tfrecord('./tfrecord/train_transformed-00000-of-00001')"
   ]
  },
  {
   "cell_type": "code",
   "execution_count": 3,
   "metadata": {},
   "outputs": [
    {
     "data": {
      "text/html": [
       "<iframe id='facets-iframe' width=\"100%\" height=\"500px\"></iframe>\n",
       "        <script>\n",
       "        facets_iframe = document.getElementById('facets-iframe');\n",
       "        facets_html = '<link rel=\"import\" href=\"https://raw.githubusercontent.com/PAIR-code/facets/master/facets-dist/facets-jupyter.html\"><facets-overview proto-input=\"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\"></facets-overview>';\n",
       "        facets_iframe.contentWindow.document.write(facets_html);\n",
       "         facets_iframe.id = \"\";\n",
       "         setTimeout(() => {\n",
       "           facets_iframe.setAttribute('height', facets_iframe.contentWindow.document.body.offsetHeight + 'px')\n",
       "         }, 1500)\n",
       "         </script>"
      ],
      "text/plain": [
       "<IPython.core.display.HTML object>"
      ]
     },
     "metadata": {},
     "output_type": "display_data"
    }
   ],
   "source": [
    "tfdv.visualize_statistics(stats)"
   ]
  },
  {
   "cell_type": "markdown",
   "metadata": {},
   "source": [
    "ｃｓｖから読み込む事もできる。（この場合一行目がカラム名でないのでexplicitに入力する必要がある）"
   ]
  },
  {
   "cell_type": "code",
   "execution_count": 4,
   "metadata": {},
   "outputs": [],
   "source": [
    "stats2 = tfdv.generate_statistics_from_csv('./data/taxi-train.csv', column_names=['dropofflon','dropofflat','passengers', 'fare_amount', 'pickuplon','pickuplat', 'key'])"
   ]
  },
  {
   "cell_type": "code",
   "execution_count": 5,
   "metadata": {},
   "outputs": [
    {
     "data": {
      "text/html": [
       "<iframe id='facets-iframe' width=\"100%\" height=\"500px\"></iframe>\n",
       "        <script>\n",
       "        facets_iframe = document.getElementById('facets-iframe');\n",
       "        facets_html = '<link rel=\"import\" href=\"https://raw.githubusercontent.com/PAIR-code/facets/master/facets-dist/facets-jupyter.html\"><facets-overview proto-input=\"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\"></facets-overview>';\n",
       "        facets_iframe.contentWindow.document.write(facets_html);\n",
       "         facets_iframe.id = \"\";\n",
       "         setTimeout(() => {\n",
       "           facets_iframe.setAttribute('height', facets_iframe.contentWindow.document.body.offsetHeight + 'px')\n",
       "         }, 1500)\n",
       "         </script>"
      ],
      "text/plain": [
       "<IPython.core.display.HTML object>"
      ]
     },
     "metadata": {},
     "output_type": "display_data"
    }
   ],
   "source": [
    "tfdv.visualize_statistics(stats2)"
   ]
  },
  {
   "cell_type": "markdown",
   "metadata": {},
   "source": [
    "## Inferring a schema over the data\n",
    "> 特徴量がどういった属性を持っているかを述べたスキーマを作成出来る。プロパティとして\n",
    "* あると期待されている特徴量かどうか\n",
    "* 型\n",
    "* それぞれのイグザンプルの中の1つの特徴量の値の数\n",
    "* 全てのイグザンプルをまたいだそれぞれの特徴量があるかどうか\n",
    "* 特徴量が期待されたドメインかどうか　\n",
    "\n",
    "ようは簡単に言えば正しいデータとはどういうものかを記述する。これらはエラーを発見するのに使われる。またこれらのスキーマはTFTでも使われる。\n",
    "   "
   ]
  },
  {
   "cell_type": "code",
   "execution_count": 41,
   "metadata": {},
   "outputs": [],
   "source": [
    "# schemaを書く\n",
    "schema = tfdv.infer_schema(stats)"
   ]
  },
  {
   "cell_type": "code",
   "execution_count": 8,
   "metadata": {},
   "outputs": [
    {
     "data": {
      "text/plain": [
       "feature {\n",
       "  name: \"passengers\"\n",
       "  type: FLOAT\n",
       "  presence {\n",
       "    min_fraction: 1.0\n",
       "    min_count: 1\n",
       "  }\n",
       "  shape {\n",
       "    dim {\n",
       "      size: 1\n",
       "    }\n",
       "  }\n",
       "}\n",
       "feature {\n",
       "  name: \"fare_amount\"\n",
       "  type: FLOAT\n",
       "  presence {\n",
       "    min_fraction: 1.0\n",
       "    min_count: 1\n",
       "  }\n",
       "  shape {\n",
       "    dim {\n",
       "      size: 1\n",
       "    }\n",
       "  }\n",
       "}\n",
       "feature {\n",
       "  name: \"pickuplat\"\n",
       "  type: INT\n",
       "  presence {\n",
       "    min_fraction: 1.0\n",
       "    min_count: 1\n",
       "  }\n",
       "  shape {\n",
       "    dim {\n",
       "      size: 1\n",
       "    }\n",
       "  }\n",
       "}\n",
       "feature {\n",
       "  name: \"dropofflat\"\n",
       "  type: INT\n",
       "  presence {\n",
       "    min_fraction: 1.0\n",
       "    min_count: 1\n",
       "  }\n",
       "  shape {\n",
       "    dim {\n",
       "      size: 1\n",
       "    }\n",
       "  }\n",
       "}\n",
       "feature {\n",
       "  name: \"key\"\n",
       "  type: FLOAT\n",
       "  presence {\n",
       "    min_fraction: 1.0\n",
       "    min_count: 1\n",
       "  }\n",
       "  shape {\n",
       "    dim {\n",
       "      size: 1\n",
       "    }\n",
       "  }\n",
       "}\n",
       "feature {\n",
       "  name: \"pickuplon\"\n",
       "  type: INT\n",
       "  presence {\n",
       "    min_fraction: 1.0\n",
       "    min_count: 1\n",
       "  }\n",
       "  shape {\n",
       "    dim {\n",
       "      size: 1\n",
       "    }\n",
       "  }\n",
       "}\n",
       "feature {\n",
       "  name: \"dropofflon\"\n",
       "  type: INT\n",
       "  presence {\n",
       "    min_fraction: 1.0\n",
       "    min_count: 1\n",
       "  }\n",
       "  shape {\n",
       "    dim {\n",
       "      size: 1\n",
       "    }\n",
       "  }\n",
       "}"
      ]
     },
     "execution_count": 8,
     "metadata": {},
     "output_type": "execute_result"
    }
   ],
   "source": [
    "schema"
   ]
  },
  {
   "cell_type": "code",
   "execution_count": 9,
   "metadata": {},
   "outputs": [
    {
     "data": {
      "text/html": [
       "<div>\n",
       "<style scoped>\n",
       "    .dataframe tbody tr th:only-of-type {\n",
       "        vertical-align: middle;\n",
       "    }\n",
       "\n",
       "    .dataframe tbody tr th {\n",
       "        vertical-align: top;\n",
       "    }\n",
       "\n",
       "    .dataframe thead th {\n",
       "        text-align: right;\n",
       "    }\n",
       "</style>\n",
       "<table border=\"1\" class=\"dataframe\">\n",
       "  <thead>\n",
       "    <tr style=\"text-align: right;\">\n",
       "      <th></th>\n",
       "      <th>Type</th>\n",
       "      <th>Presence</th>\n",
       "      <th>Valency</th>\n",
       "      <th>Domain</th>\n",
       "    </tr>\n",
       "    <tr>\n",
       "      <th>Feature name</th>\n",
       "      <th></th>\n",
       "      <th></th>\n",
       "      <th></th>\n",
       "      <th></th>\n",
       "    </tr>\n",
       "  </thead>\n",
       "  <tbody>\n",
       "    <tr>\n",
       "      <th>'passengers'</th>\n",
       "      <td>FLOAT</td>\n",
       "      <td>required</td>\n",
       "      <td></td>\n",
       "      <td>-</td>\n",
       "    </tr>\n",
       "    <tr>\n",
       "      <th>'fare_amount'</th>\n",
       "      <td>FLOAT</td>\n",
       "      <td>required</td>\n",
       "      <td></td>\n",
       "      <td>-</td>\n",
       "    </tr>\n",
       "    <tr>\n",
       "      <th>'pickuplat'</th>\n",
       "      <td>INT</td>\n",
       "      <td>required</td>\n",
       "      <td></td>\n",
       "      <td>-</td>\n",
       "    </tr>\n",
       "    <tr>\n",
       "      <th>'dropofflat'</th>\n",
       "      <td>INT</td>\n",
       "      <td>required</td>\n",
       "      <td></td>\n",
       "      <td>-</td>\n",
       "    </tr>\n",
       "    <tr>\n",
       "      <th>'key'</th>\n",
       "      <td>FLOAT</td>\n",
       "      <td>required</td>\n",
       "      <td></td>\n",
       "      <td>-</td>\n",
       "    </tr>\n",
       "    <tr>\n",
       "      <th>'pickuplon'</th>\n",
       "      <td>INT</td>\n",
       "      <td>required</td>\n",
       "      <td></td>\n",
       "      <td>-</td>\n",
       "    </tr>\n",
       "    <tr>\n",
       "      <th>'dropofflon'</th>\n",
       "      <td>INT</td>\n",
       "      <td>required</td>\n",
       "      <td></td>\n",
       "      <td>-</td>\n",
       "    </tr>\n",
       "  </tbody>\n",
       "</table>\n",
       "</div>"
      ],
      "text/plain": [
       "                Type  Presence Valency Domain\n",
       "Feature name                                 \n",
       "'passengers'   FLOAT  required              -\n",
       "'fare_amount'  FLOAT  required              -\n",
       "'pickuplat'      INT  required              -\n",
       "'dropofflat'     INT  required              -\n",
       "'key'          FLOAT  required              -\n",
       "'pickuplon'      INT  required              -\n",
       "'dropofflon'     INT  required              -"
      ]
     },
     "metadata": {},
     "output_type": "display_data"
    }
   ],
   "source": [
    "tfdv.display_schema(schema)"
   ]
  },
  {
   "cell_type": "code",
   "execution_count": 10,
   "metadata": {},
   "outputs": [],
   "source": [
    "tfdv.get_feature(schema, 'dropofflat').presence.min_fraction = 0.5"
   ]
  },
  {
   "cell_type": "code",
   "execution_count": 11,
   "metadata": {},
   "outputs": [
    {
     "data": {
      "text/plain": [
       "feature {\n",
       "  name: \"passengers\"\n",
       "  type: FLOAT\n",
       "  presence {\n",
       "    min_fraction: 1.0\n",
       "    min_count: 1\n",
       "  }\n",
       "  shape {\n",
       "    dim {\n",
       "      size: 1\n",
       "    }\n",
       "  }\n",
       "}\n",
       "feature {\n",
       "  name: \"fare_amount\"\n",
       "  type: FLOAT\n",
       "  presence {\n",
       "    min_fraction: 1.0\n",
       "    min_count: 1\n",
       "  }\n",
       "  shape {\n",
       "    dim {\n",
       "      size: 1\n",
       "    }\n",
       "  }\n",
       "}\n",
       "feature {\n",
       "  name: \"pickuplat\"\n",
       "  type: INT\n",
       "  presence {\n",
       "    min_fraction: 1.0\n",
       "    min_count: 1\n",
       "  }\n",
       "  shape {\n",
       "    dim {\n",
       "      size: 1\n",
       "    }\n",
       "  }\n",
       "}\n",
       "feature {\n",
       "  name: \"dropofflat\"\n",
       "  type: INT\n",
       "  presence {\n",
       "    min_fraction: 0.5\n",
       "    min_count: 1\n",
       "  }\n",
       "  shape {\n",
       "    dim {\n",
       "      size: 1\n",
       "    }\n",
       "  }\n",
       "}\n",
       "feature {\n",
       "  name: \"key\"\n",
       "  type: FLOAT\n",
       "  presence {\n",
       "    min_fraction: 1.0\n",
       "    min_count: 1\n",
       "  }\n",
       "  shape {\n",
       "    dim {\n",
       "      size: 1\n",
       "    }\n",
       "  }\n",
       "}\n",
       "feature {\n",
       "  name: \"pickuplon\"\n",
       "  type: INT\n",
       "  presence {\n",
       "    min_fraction: 1.0\n",
       "    min_count: 1\n",
       "  }\n",
       "  shape {\n",
       "    dim {\n",
       "      size: 1\n",
       "    }\n",
       "  }\n",
       "}\n",
       "feature {\n",
       "  name: \"dropofflon\"\n",
       "  type: INT\n",
       "  presence {\n",
       "    min_fraction: 1.0\n",
       "    min_count: 1\n",
       "  }\n",
       "  shape {\n",
       "    dim {\n",
       "      size: 1\n",
       "    }\n",
       "  }\n",
       "}"
      ]
     },
     "execution_count": 11,
     "metadata": {},
     "output_type": "execute_result"
    }
   ],
   "source": [
    "schema"
   ]
  },
  {
   "cell_type": "markdown",
   "metadata": {},
   "source": [
    "`dropofflat`の`presense`の値が変わっていることがわかる"
   ]
  },
  {
   "cell_type": "markdown",
   "metadata": {},
   "source": [
    "## Checking the data for errors \n",
    "データセットが期待したものであるか、どこが通常と違うのかを測定できる。"
   ]
  },
  {
   "cell_type": "markdown",
   "metadata": {},
   "source": [
    "### Matching the statistics of the dataset against a schema\n",
    "異なるデータに対して要件を満たしているデータであるかをスキーマと比較して検出する"
   ]
  },
  {
   "cell_type": "code",
   "execution_count": 12,
   "metadata": {},
   "outputs": [],
   "source": [
    "other_stats = tfdv.generate_statistics_from_tfrecord('./tfrecord/test_transformed-00000-of-00001')"
   ]
  },
  {
   "cell_type": "code",
   "execution_count": 13,
   "metadata": {},
   "outputs": [
    {
     "data": {
      "text/html": [
       "<h4 style=\"color:green;\">No anomalies found.</h4>"
      ],
      "text/plain": [
       "<IPython.core.display.HTML object>"
      ]
     },
     "metadata": {},
     "output_type": "display_data"
    }
   ],
   "source": [
    "anomalies = tfdv.validate_statistics(statistics=other_stats, schema=schema)\n",
    "tfdv.display_anomalies(anomalies)"
   ]
  },
  {
   "cell_type": "markdown",
   "metadata": {},
   "source": [
    "特におかしい特徴量は無いようだ。試しに確実にエラーがでるCSVでやってみる。"
   ]
  },
  {
   "cell_type": "code",
   "execution_count": 14,
   "metadata": {},
   "outputs": [
    {
     "data": {
      "text/html": [
       "<div>\n",
       "<style scoped>\n",
       "    .dataframe tbody tr th:only-of-type {\n",
       "        vertical-align: middle;\n",
       "    }\n",
       "\n",
       "    .dataframe tbody tr th {\n",
       "        vertical-align: top;\n",
       "    }\n",
       "\n",
       "    .dataframe thead th {\n",
       "        text-align: right;\n",
       "    }\n",
       "</style>\n",
       "<table border=\"1\" class=\"dataframe\">\n",
       "  <thead>\n",
       "    <tr style=\"text-align: right;\">\n",
       "      <th></th>\n",
       "      <th>Anomaly short description</th>\n",
       "      <th>Anomaly long description</th>\n",
       "    </tr>\n",
       "    <tr>\n",
       "      <th>Feature name</th>\n",
       "      <th></th>\n",
       "      <th></th>\n",
       "    </tr>\n",
       "  </thead>\n",
       "  <tbody>\n",
       "    <tr>\n",
       "      <th>'pickuplon'</th>\n",
       "      <td>Expected data of type: INT but got FLOAT</td>\n",
       "      <td></td>\n",
       "    </tr>\n",
       "    <tr>\n",
       "      <th>'dropofflat'</th>\n",
       "      <td>Expected data of type: INT but got FLOAT</td>\n",
       "      <td></td>\n",
       "    </tr>\n",
       "    <tr>\n",
       "      <th>'dropofflon'</th>\n",
       "      <td>Expected data of type: INT but got FLOAT</td>\n",
       "      <td></td>\n",
       "    </tr>\n",
       "    <tr>\n",
       "      <th>'key'</th>\n",
       "      <td>Expected data of type: FLOAT but got INT</td>\n",
       "      <td></td>\n",
       "    </tr>\n",
       "  </tbody>\n",
       "</table>\n",
       "</div>"
      ],
      "text/plain": [
       "                             Anomaly short description  \\\n",
       "Feature name                                             \n",
       "'pickuplon'   Expected data of type: INT but got FLOAT   \n",
       "'dropofflat'  Expected data of type: INT but got FLOAT   \n",
       "'dropofflon'  Expected data of type: INT but got FLOAT   \n",
       "'key'         Expected data of type: FLOAT but got INT   \n",
       "\n",
       "             Anomaly long description  \n",
       "Feature name                           \n",
       "'pickuplon'                            \n",
       "'dropofflat'                           \n",
       "'dropofflon'                           \n",
       "'key'                                  "
      ]
     },
     "metadata": {},
     "output_type": "display_data"
    }
   ],
   "source": [
    "anomalies2 = tfdv.validate_statistics(statistics=stats2, schema=schema)\n",
    "tfdv.display_anomalies(anomalies2)"
   ]
  },
  {
   "cell_type": "markdown",
   "metadata": {},
   "source": [
    "## Checking for erros on a per-example basis\n",
    "TFDVは一つ一つのエグザンプルに対して異常値検出をすることも可能である。\n",
    "現状ではpython2/3に関わらずエラー。"
   ]
  },
  {
   "cell_type": "code",
   "execution_count": 18,
   "metadata": {},
   "outputs": [
    {
     "ename": "AttributeError",
     "evalue": "'module' object has no attribute 'validate_tfexamples_in_tfrecord'",
     "output_type": "error",
     "traceback": [
      "\u001b[0;31m---------------------------------------------------------------------------\u001b[0m",
      "\u001b[0;31mAttributeError\u001b[0m                            Traceback (most recent call last)",
      "\u001b[0;32m<ipython-input-18-a936edf0473d>\u001b[0m in \u001b[0;36m<module>\u001b[0;34m()\u001b[0m\n\u001b[1;32m      1\u001b[0m \u001b[0moptions\u001b[0m \u001b[0;34m=\u001b[0m \u001b[0mtfdv\u001b[0m\u001b[0;34m.\u001b[0m\u001b[0mStatsOptions\u001b[0m\u001b[0;34m(\u001b[0m\u001b[0mschema\u001b[0m\u001b[0;34m=\u001b[0m\u001b[0mschema\u001b[0m\u001b[0;34m)\u001b[0m\u001b[0;34m\u001b[0m\u001b[0m\n\u001b[0;32m----> 2\u001b[0;31m anomalous_example_stats = tfdv.validate_tfexamples_in_tfrecord(\n\u001b[0m\u001b[1;32m      3\u001b[0m    data_location='./tfrecord/test_transformed-00000-of-00001', stats_options=options) # python 3ではまだ未対応\n\u001b[1;32m      4\u001b[0m \u001b[0mtfdv\u001b[0m\u001b[0;34m.\u001b[0m\u001b[0mdisplay_anomalies\u001b[0m\u001b[0;34m(\u001b[0m\u001b[0manomalous_example_stats\u001b[0m\u001b[0;34m)\u001b[0m\u001b[0;34m\u001b[0m\u001b[0m\n",
      "\u001b[0;31mAttributeError\u001b[0m: 'module' object has no attribute 'validate_tfexamples_in_tfrecord'"
     ]
    }
   ],
   "source": [
    "options = tfdv.StatsOptions(schema=schema)\n",
    "anomalous_example_stats = tfdv.validate_tfexamples_in_tfrecord(\n",
    "   data_location='./tfrecord/test_transformed-00000-of-00001', stats_options=options) \n",
    "tfdv.display_anomalies(anomalous_example_stats)"
   ]
  },
  {
   "cell_type": "markdown",
   "metadata": {},
   "source": [
    "## Schema envirometn\n",
    "パイプライン内のデータセットは基本的に統一されたスキーマでが、いくつかのケースではスキーマの種類を複数にしなくては行けない時がある。  \n",
    "例えば訓練時には使われるが提供時には使われないラベルなどである。そういったもの環境変数を指定することで設定出来る。"
   ]
  },
  {
   "cell_type": "code",
   "execution_count": 21,
   "metadata": {},
   "outputs": [],
   "source": [
    "%%bash\n",
    "# labelを消したCSVを作成\n",
    "cat ./data/taxi-test.csv | cut -d \",\" -f 2-7 > ./data/serving.csv "
   ]
  },
  {
   "cell_type": "code",
   "execution_count": 28,
   "metadata": {},
   "outputs": [],
   "source": [
    "# 訓練時の統計量とスキーマ\n",
    "train_stats = tfdv.generate_statistics_from_csv('./data/taxi-valid.csv', column_names=['fare_amount','dropofflon','dropofflat', 'pickuplon','pickuplat','passengers','key'])\n",
    "schema2 = tfdv.infer_schema(train_stats)"
   ]
  },
  {
   "cell_type": "code",
   "execution_count": 29,
   "metadata": {},
   "outputs": [
    {
     "data": {
      "text/html": [
       "<div>\n",
       "<style scoped>\n",
       "    .dataframe tbody tr th:only-of-type {\n",
       "        vertical-align: middle;\n",
       "    }\n",
       "\n",
       "    .dataframe tbody tr th {\n",
       "        vertical-align: top;\n",
       "    }\n",
       "\n",
       "    .dataframe thead th {\n",
       "        text-align: right;\n",
       "    }\n",
       "</style>\n",
       "<table border=\"1\" class=\"dataframe\">\n",
       "  <thead>\n",
       "    <tr style=\"text-align: right;\">\n",
       "      <th></th>\n",
       "      <th>Anomaly short description</th>\n",
       "      <th>Anomaly long description</th>\n",
       "    </tr>\n",
       "    <tr>\n",
       "      <th>Feature name</th>\n",
       "      <th></th>\n",
       "      <th></th>\n",
       "    </tr>\n",
       "  </thead>\n",
       "  <tbody>\n",
       "    <tr>\n",
       "      <th>'fare_amount'</th>\n",
       "      <td>Column dropped</td>\n",
       "      <td>Column is completely missing</td>\n",
       "    </tr>\n",
       "  </tbody>\n",
       "</table>\n",
       "</div>"
      ],
      "text/plain": [
       "              Anomaly short description      Anomaly long description\n",
       "Feature name                                                         \n",
       "'fare_amount'  Column dropped            Column is completely missing"
      ]
     },
     "metadata": {},
     "output_type": "display_data"
    }
   ],
   "source": [
    "# Serving時の統計量\n",
    "serving_stats = tfdv.generate_statistics_from_csv('./data/serving.csv', column_names=['dropofflon','dropofflat', 'pickuplon','pickuplat','passengers','key'])\n",
    "serving_anomalies = tfdv.validate_statistics(serving_stats, schema2)\n",
    "tfdv.display_anomalies(serving_anomalies)"
   ]
  },
  {
   "cell_type": "markdown",
   "metadata": {},
   "source": [
    "Servingのときにfare_amountが抜けているのが確認できる。Servingのときにはこれらが抜けることをスキーマに設定出来る。"
   ]
  },
  {
   "cell_type": "code",
   "execution_count": 30,
   "metadata": {},
   "outputs": [],
   "source": [
    "schema2.default_environment.append('TRAINING')\n",
    "schema2.default_environment.append('SERVING')"
   ]
  },
  {
   "cell_type": "code",
   "execution_count": 33,
   "metadata": {},
   "outputs": [
    {
     "data": {
      "text/plain": [
       "feature {\n",
       "  name: \"passengers\"\n",
       "  type: INT\n",
       "  presence {\n",
       "    min_fraction: 1.0\n",
       "    min_count: 1\n",
       "  }\n",
       "  shape {\n",
       "    dim {\n",
       "      size: 1\n",
       "    }\n",
       "  }\n",
       "}\n",
       "feature {\n",
       "  name: \"fare_amount\"\n",
       "  type: FLOAT\n",
       "  presence {\n",
       "    min_fraction: 1.0\n",
       "    min_count: 1\n",
       "  }\n",
       "  shape {\n",
       "    dim {\n",
       "      size: 1\n",
       "    }\n",
       "  }\n",
       "}\n",
       "feature {\n",
       "  name: \"pickuplat\"\n",
       "  type: FLOAT\n",
       "  presence {\n",
       "    min_fraction: 1.0\n",
       "    min_count: 1\n",
       "  }\n",
       "  shape {\n",
       "    dim {\n",
       "      size: 1\n",
       "    }\n",
       "  }\n",
       "}\n",
       "feature {\n",
       "  name: \"dropofflat\"\n",
       "  type: FLOAT\n",
       "  presence {\n",
       "    min_fraction: 1.0\n",
       "    min_count: 1\n",
       "  }\n",
       "  shape {\n",
       "    dim {\n",
       "      size: 1\n",
       "    }\n",
       "  }\n",
       "}\n",
       "feature {\n",
       "  name: \"key\"\n",
       "  type: INT\n",
       "  presence {\n",
       "    min_fraction: 1.0\n",
       "    min_count: 1\n",
       "  }\n",
       "  shape {\n",
       "    dim {\n",
       "      size: 1\n",
       "    }\n",
       "  }\n",
       "}\n",
       "feature {\n",
       "  name: \"pickuplon\"\n",
       "  type: FLOAT\n",
       "  presence {\n",
       "    min_fraction: 1.0\n",
       "    min_count: 1\n",
       "  }\n",
       "  shape {\n",
       "    dim {\n",
       "      size: 1\n",
       "    }\n",
       "  }\n",
       "}\n",
       "feature {\n",
       "  name: \"dropofflon\"\n",
       "  type: FLOAT\n",
       "  presence {\n",
       "    min_fraction: 1.0\n",
       "    min_count: 1\n",
       "  }\n",
       "  shape {\n",
       "    dim {\n",
       "      size: 1\n",
       "    }\n",
       "  }\n",
       "}\n",
       "default_environment: \"TRAINING\"\n",
       "default_environment: \"SERVING\""
      ]
     },
     "execution_count": 33,
     "metadata": {},
     "output_type": "execute_result"
    }
   ],
   "source": [
    "schema2"
   ]
  },
  {
   "cell_type": "code",
   "execution_count": 36,
   "metadata": {},
   "outputs": [
    {
     "data": {
      "text/plain": [
       "feature {\n",
       "  name: \"passengers\"\n",
       "  type: INT\n",
       "  presence {\n",
       "    min_fraction: 1.0\n",
       "    min_count: 1\n",
       "  }\n",
       "  shape {\n",
       "    dim {\n",
       "      size: 1\n",
       "    }\n",
       "  }\n",
       "}\n",
       "feature {\n",
       "  name: \"fare_amount\"\n",
       "  type: FLOAT\n",
       "  presence {\n",
       "    min_fraction: 1.0\n",
       "    min_count: 1\n",
       "  }\n",
       "  not_in_environment: \"SERVING\"\n",
       "  shape {\n",
       "    dim {\n",
       "      size: 1\n",
       "    }\n",
       "  }\n",
       "}\n",
       "feature {\n",
       "  name: \"pickuplat\"\n",
       "  type: FLOAT\n",
       "  presence {\n",
       "    min_fraction: 1.0\n",
       "    min_count: 1\n",
       "  }\n",
       "  shape {\n",
       "    dim {\n",
       "      size: 1\n",
       "    }\n",
       "  }\n",
       "}\n",
       "feature {\n",
       "  name: \"dropofflat\"\n",
       "  type: FLOAT\n",
       "  presence {\n",
       "    min_fraction: 1.0\n",
       "    min_count: 1\n",
       "  }\n",
       "  shape {\n",
       "    dim {\n",
       "      size: 1\n",
       "    }\n",
       "  }\n",
       "}\n",
       "feature {\n",
       "  name: \"key\"\n",
       "  type: INT\n",
       "  presence {\n",
       "    min_fraction: 1.0\n",
       "    min_count: 1\n",
       "  }\n",
       "  shape {\n",
       "    dim {\n",
       "      size: 1\n",
       "    }\n",
       "  }\n",
       "}\n",
       "feature {\n",
       "  name: \"pickuplon\"\n",
       "  type: FLOAT\n",
       "  presence {\n",
       "    min_fraction: 1.0\n",
       "    min_count: 1\n",
       "  }\n",
       "  shape {\n",
       "    dim {\n",
       "      size: 1\n",
       "    }\n",
       "  }\n",
       "}\n",
       "feature {\n",
       "  name: \"dropofflon\"\n",
       "  type: FLOAT\n",
       "  presence {\n",
       "    min_fraction: 1.0\n",
       "    min_count: 1\n",
       "  }\n",
       "  shape {\n",
       "    dim {\n",
       "      size: 1\n",
       "    }\n",
       "  }\n",
       "}\n",
       "default_environment: \"TRAINING\"\n",
       "default_environment: \"SERVING\""
      ]
     },
     "execution_count": 36,
     "metadata": {},
     "output_type": "execute_result"
    }
   ],
   "source": [
    "# Serving のときにfare_amountが抜けても良いようにする\n",
    "tfdv.get_feature(schema2, 'fare_amount').not_in_environment.append('SERVING')\n",
    "schema2"
   ]
  },
  {
   "cell_type": "code",
   "execution_count": 38,
   "metadata": {},
   "outputs": [],
   "source": [
    "serving_anomalies_with_env = tfdv.validate_statistics(\n",
    "    serving_stats, schema2, environment='SERVING'\n",
    ")"
   ]
  },
  {
   "cell_type": "code",
   "execution_count": 39,
   "metadata": {},
   "outputs": [
    {
     "data": {
      "text/html": [
       "<h4 style=\"color:green;\">No anomalies found.</h4>"
      ],
      "text/plain": [
       "<IPython.core.display.HTML object>"
      ]
     },
     "metadata": {},
     "output_type": "display_data"
    }
   ],
   "source": [
    "tfdv.display_anomalies(serving_anomalies_with_env)"
   ]
  },
  {
   "cell_type": "markdown",
   "metadata": {},
   "source": [
    "以上として認識されなくなったことがわかる。"
   ]
  },
  {
   "cell_type": "markdown",
   "metadata": {},
   "source": [
    "## Checking data skew and drift"
   ]
  },
  {
   "cell_type": "code",
   "execution_count": 45,
   "metadata": {},
   "outputs": [
    {
     "data": {
      "text/plain": [
       "feature {\n",
       "  name: \"passengers\"\n",
       "  type: FLOAT\n",
       "  presence {\n",
       "    min_fraction: 1.0\n",
       "    min_count: 1\n",
       "  }\n",
       "  skew_comparator {\n",
       "    infinity_norm {\n",
       "      threshold: 0.01\n",
       "    }\n",
       "  }\n",
       "  shape {\n",
       "    dim {\n",
       "      size: 1\n",
       "    }\n",
       "  }\n",
       "}\n",
       "feature {\n",
       "  name: \"fare_amount\"\n",
       "  type: FLOAT\n",
       "  presence {\n",
       "    min_fraction: 1.0\n",
       "    min_count: 1\n",
       "  }\n",
       "  shape {\n",
       "    dim {\n",
       "      size: 1\n",
       "    }\n",
       "  }\n",
       "}\n",
       "feature {\n",
       "  name: \"pickuplat\"\n",
       "  type: INT\n",
       "  presence {\n",
       "    min_fraction: 1.0\n",
       "    min_count: 1\n",
       "  }\n",
       "  shape {\n",
       "    dim {\n",
       "      size: 1\n",
       "    }\n",
       "  }\n",
       "}\n",
       "feature {\n",
       "  name: \"dropofflat\"\n",
       "  type: INT\n",
       "  presence {\n",
       "    min_fraction: 1.0\n",
       "    min_count: 1\n",
       "  }\n",
       "  shape {\n",
       "    dim {\n",
       "      size: 1\n",
       "    }\n",
       "  }\n",
       "}\n",
       "feature {\n",
       "  name: \"key\"\n",
       "  type: FLOAT\n",
       "  presence {\n",
       "    min_fraction: 1.0\n",
       "    min_count: 1\n",
       "  }\n",
       "  shape {\n",
       "    dim {\n",
       "      size: 1\n",
       "    }\n",
       "  }\n",
       "}\n",
       "feature {\n",
       "  name: \"pickuplon\"\n",
       "  type: INT\n",
       "  presence {\n",
       "    min_fraction: 1.0\n",
       "    min_count: 1\n",
       "  }\n",
       "  shape {\n",
       "    dim {\n",
       "      size: 1\n",
       "    }\n",
       "  }\n",
       "}\n",
       "feature {\n",
       "  name: \"dropofflon\"\n",
       "  type: INT\n",
       "  presence {\n",
       "    min_fraction: 1.0\n",
       "    min_count: 1\n",
       "  }\n",
       "  shape {\n",
       "    dim {\n",
       "      size: 1\n",
       "    }\n",
       "  }\n",
       "}"
      ]
     },
     "execution_count": 45,
     "metadata": {},
     "output_type": "execute_result"
    }
   ],
   "source": [
    "# skewをチェック\n",
    "serving_stats = tfdv.generate_statistics_from_tfrecord('./tfrecord/test_transformed-00000-of-00001')\n",
    "\n",
    "tfdv.get_feature(schema, 'passengers').skew_comparator.infinity_norm.threshold = 0.01\n",
    "schema"
   ]
  },
  {
   "cell_type": "code",
   "execution_count": 43,
   "metadata": {},
   "outputs": [],
   "source": [
    "skew_anomalies = tfdv.validate_statistics(\n",
    "    statistics=stats, schema=schema, serving_statistics=serving_stats)"
   ]
  },
  {
   "cell_type": "code",
   "execution_count": 44,
   "metadata": {},
   "outputs": [
    {
     "data": {
      "text/html": [
       "<h4 style=\"color:green;\">No anomalies found.</h4>"
      ],
      "text/plain": [
       "<IPython.core.display.HTML object>"
      ]
     },
     "metadata": {},
     "output_type": "display_data"
    }
   ],
   "source": [
    "tfdv.display_anomalies(skew_anomalies)"
   ]
  },
  {
   "cell_type": "code",
   "execution_count": 51,
   "metadata": {},
   "outputs": [
    {
     "data": {
      "text/plain": [
       "feature {\n",
       "  name: \"passengers\"\n",
       "  type: FLOAT\n",
       "  presence {\n",
       "    min_fraction: 1.0\n",
       "    min_count: 1\n",
       "  }\n",
       "  skew_comparator {\n",
       "    infinity_norm {\n",
       "      threshold: 0.01\n",
       "    }\n",
       "  }\n",
       "  drift_comparator {\n",
       "    infinity_norm {\n",
       "      threshold: 0.01\n",
       "    }\n",
       "  }\n",
       "  shape {\n",
       "    dim {\n",
       "      size: 1\n",
       "    }\n",
       "  }\n",
       "}\n",
       "feature {\n",
       "  name: \"fare_amount\"\n",
       "  type: FLOAT\n",
       "  presence {\n",
       "    min_fraction: 1.0\n",
       "    min_count: 1\n",
       "  }\n",
       "  shape {\n",
       "    dim {\n",
       "      size: 1\n",
       "    }\n",
       "  }\n",
       "}\n",
       "feature {\n",
       "  name: \"pickuplat\"\n",
       "  type: INT\n",
       "  presence {\n",
       "    min_fraction: 1.0\n",
       "    min_count: 1\n",
       "  }\n",
       "  shape {\n",
       "    dim {\n",
       "      size: 1\n",
       "    }\n",
       "  }\n",
       "}\n",
       "feature {\n",
       "  name: \"dropofflat\"\n",
       "  type: INT\n",
       "  presence {\n",
       "    min_fraction: 1.0\n",
       "    min_count: 1\n",
       "  }\n",
       "  shape {\n",
       "    dim {\n",
       "      size: 1\n",
       "    }\n",
       "  }\n",
       "}\n",
       "feature {\n",
       "  name: \"key\"\n",
       "  type: FLOAT\n",
       "  presence {\n",
       "    min_fraction: 1.0\n",
       "    min_count: 1\n",
       "  }\n",
       "  shape {\n",
       "    dim {\n",
       "      size: 1\n",
       "    }\n",
       "  }\n",
       "}\n",
       "feature {\n",
       "  name: \"pickuplon\"\n",
       "  type: INT\n",
       "  presence {\n",
       "    min_fraction: 1.0\n",
       "    min_count: 1\n",
       "  }\n",
       "  shape {\n",
       "    dim {\n",
       "      size: 1\n",
       "    }\n",
       "  }\n",
       "}\n",
       "feature {\n",
       "  name: \"dropofflon\"\n",
       "  type: INT\n",
       "  presence {\n",
       "    min_fraction: 1.0\n",
       "    min_count: 1\n",
       "  }\n",
       "  shape {\n",
       "    dim {\n",
       "      size: 1\n",
       "    }\n",
       "  }\n",
       "}"
      ]
     },
     "execution_count": 51,
     "metadata": {},
     "output_type": "execute_result"
    }
   ],
   "source": [
    "# driftをチェック\n",
    "tfdv.get_feature(schema, 'passengers').drift_comparator.infinity_norm.threshold = 0.01\n",
    "schema"
   ]
  },
  {
   "cell_type": "code",
   "execution_count": 52,
   "metadata": {},
   "outputs": [],
   "source": [
    "drift_anomalies = tfdv.validate_statistics(\n",
    "        statistics=stats, schema=schema, serving_statistics=serving_stats)"
   ]
  },
  {
   "cell_type": "code",
   "execution_count": 53,
   "metadata": {},
   "outputs": [
    {
     "data": {
      "text/html": [
       "<h4 style=\"color:green;\">No anomalies found.</h4>"
      ],
      "text/plain": [
       "<IPython.core.display.HTML object>"
      ]
     },
     "metadata": {},
     "output_type": "display_data"
    }
   ],
   "source": [
    "tfdv.display_anomalies(drift_anomalies)"
   ]
  },
  {
   "cell_type": "markdown",
   "metadata": {},
   "source": [
    "## Writing custom data conector\n",
    "inputの形式がcsv tfrecordの様に用意されたものでなくても、独自実装も可能。\n",
    "ただし、low レベルのAPIで自分たちで書く必要がある。"
   ]
  },
  {
   "cell_type": "code",
   "execution_count": null,
   "metadata": {},
   "outputs": [],
   "source": []
  }
 ],
 "metadata": {
  "kernelspec": {
   "display_name": "Python 2",
   "language": "python",
   "name": "python2"
  },
  "language_info": {
   "codemirror_mode": {
    "name": "ipython",
    "version": 2
   },
   "file_extension": ".py",
   "mimetype": "text/x-python",
   "name": "python",
   "nbconvert_exporter": "python",
   "pygments_lexer": "ipython2",
   "version": "2.7.16"
  }
 },
 "nbformat": 4,
 "nbformat_minor": 4
}
